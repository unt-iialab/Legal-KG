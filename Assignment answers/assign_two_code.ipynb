{
  "nbformat": 4,
  "nbformat_minor": 0,
  "metadata": {
    "colab": {
      "name": "assign-two-code.ipynb",
      "provenance": [],
      "toc_visible": true,
      "include_colab_link": true
    },
    "kernelspec": {
      "name": "python3",
      "display_name": "Python 3"
    }
  },
  "cells": [
    {
      "cell_type": "markdown",
      "metadata": {
        "id": "view-in-github",
        "colab_type": "text"
      },
      "source": [
        "<a href=\"https://colab.research.google.com/github/unt-iialab/Legal-KG/blob/master/Assignment%20answers/assign_two_code.ipynb\" target=\"_parent\"><img src=\"https://colab.research.google.com/assets/colab-badge.svg\" alt=\"Open In Colab\"/></a>"
      ]
    },
    {
      "cell_type": "markdown",
      "metadata": {
        "id": "frh7MSL_qfFG",
        "colab_type": "text"
      },
      "source": [
        "# Reference answer for assignment two (From Quintero)"
      ]
    },
    {
      "cell_type": "markdown",
      "metadata": {
        "id": "nB3Bokluqlrg",
        "colab_type": "text"
      },
      "source": [
        "**Question 1. (15 points).** The formula that describes the volume V of a sphere with radius r is the following:\n",
        "\n",
        "                                    V=4/3* π* r^3\n",
        "                                    \n",
        "Write a program in the “<LastName>_assognment-two-code.ipynb” file to calculate the value of V when r is in the range of 1– 10. Output the result in the following format:\n",
        "  \n",
        "\tr\tV\n",
        "\t1\t…\n",
        "\t2\t…\n",
        "\t3\t…"
      ]
    },
    {
      "cell_type": "code",
      "metadata": {
        "id": "0459HIdtqcSl",
        "colab_type": "code",
        "colab": {
          "base_uri": "https://localhost:8080/",
          "height": 204
        },
        "outputId": "72088c47-b9b2-4e90-ae6e-e9bda83e9ffb"
      },
      "source": [
        "import math\n",
        "# Definiion of volume equation\n",
        "def volume(radius):\n",
        "    return (4/3)*math.pi*(radius**3)\n",
        "\n",
        "print(\"r\\t V\")\n",
        "r=1\n",
        "# Loop to print volume for radius range 1-10\n",
        "while r <= 10:\n",
        "    print(r,\"\\t\",round(volume(r),4))\n",
        "    r += 1"
      ],
      "execution_count": 1,
      "outputs": [
        {
          "output_type": "stream",
          "text": [
            "r\t V\n",
            "1 \t 4.1888\n",
            "2 \t 33.5103\n",
            "3 \t 113.0973\n",
            "4 \t 268.0826\n",
            "5 \t 523.5988\n",
            "6 \t 904.7787\n",
            "7 \t 1436.755\n",
            "8 \t 2144.6606\n",
            "9 \t 3053.6281\n",
            "10 \t 4188.7902\n"
          ],
          "name": "stdout"
        }
      ]
    },
    {
      "cell_type": "markdown",
      "metadata": {
        "id": "06brfL4wtD8j",
        "colab_type": "text"
      },
      "source": [
        "**Question 2. (30 points).** Python files reading and writing. Download the “Assignment 2 data collection.zip” to your local and un-zip it. Write a program in the “\\<LastName>_assognment-two-code.ipynb” file to finish the following task:\n",
        "\n",
        "(1)\t(10 pts) Write a program to read all the txt files and save the sentences in all the files into one csv file with two columns, the first column is sentence id (txt file name+sentence line number), the second column is the sentence text content.\n",
        "\n",
        "(2)\t(10 pts) Remove all the numbers, special characters, punctuation from the sentences, save the processed sentences into a new column in the same csv file. \n",
        "\n",
        "(3)\t(10 pts) Ask the user to enter a word, return all the sentences that include this word, three kinds of information should be returned: sentence id, sentence text content, the count that user input word appear in the sentence.\n"
      ]
    },
    {
      "cell_type": "markdown",
      "metadata": {
        "id": "kDjEn8_zujyr",
        "colab_type": "text"
      },
      "source": [
        "**Question 2-1:**"
      ]
    },
    {
      "cell_type": "code",
      "metadata": {
        "id": "SweBWdRjtQ6o",
        "colab_type": "code",
        "colab": {}
      },
      "source": [
        "import csv\n",
        "# Create and open the CSV file for output\n",
        "with open(\"output.csv\",\"w\") as output_file:\n",
        "    line_output = csv.writer(output_file,delimiter=',')\n",
        "    i = 1\n",
        "    while i <= 100: # Loop to open and read all 100 files\n",
        "        input_file_name = \"Assign-two-data-collection//\"+\"ARTHROTEC.\"+str(i)+\".txt\" # File name changes with index value\n",
        "        output_line_name = \"ARTHROTEC.\"+str(i)\n",
        "        input_file = open(input_file_name).read() # Open and read each input file\n",
        "        sentences = input_file.split('\\n') # Split the file into separate lines\n",
        "        for x in sentences: # Loop to remove empty lines\n",
        "            if x == '':\n",
        "                sentences.remove(x) # remove empty lines\n",
        "        for x in sentences: # Loop to add each line to output file\n",
        "            sentence_id = output_line_name+\" - line \"+str(sentences.index(x)+1) # Create a string for sentence id\n",
        "#             print(sentence_id)\n",
        "            line_output.writerow([sentence_id,x]) # write sentence id and sentence into output file\n",
        "        i += 1 # increment index to move on to the next file"
      ],
      "execution_count": 0,
      "outputs": []
    },
    {
      "cell_type": "markdown",
      "metadata": {
        "id": "8SY2Yxmtuqq6",
        "colab_type": "text"
      },
      "source": [
        "**Question 2-2:**"
      ]
    },
    {
      "cell_type": "code",
      "metadata": {
        "id": "FOs_IAkMth7D",
        "colab_type": "code",
        "colab": {}
      },
      "source": [
        "import csv\n",
        "import re\n",
        "temp_data = [] # Temporary list to store read data\n",
        "# Open output file for reading\n",
        "with open(\"output.csv\",'r') as input_file:\n",
        "    file_reader = csv.reader(input_file) # Create file reading variable\n",
        "    for row in file_reader: # Loop to read each row from the file\n",
        "        clean_line = re.sub(r\"[^a-zA-Z\\s\\']\",\"\",row[1]) # Remove all numbers and special characters from sentence\n",
        "        clean_line = re.sub(\"\\s\\s\",\" \",clean_line) # Replace all double spaces with one space\n",
        "        row.append(clean_line) # Append the cleaned sentence to third column of each row\n",
        "        temp_data.append(row) # Add each row to the temporary list\n",
        "# Open output file for writing\n",
        "with open(\"output.csv\",\"w\") as output_file:\n",
        "    file_writer = csv.writer(output_file,delimiter=',') # Create file writing variable\n",
        "    file_writer.writerows(temp_data) # Add all temporary data to the file"
      ],
      "execution_count": 0,
      "outputs": []
    },
    {
      "cell_type": "markdown",
      "metadata": {
        "id": "Yz-mo59uwqPJ",
        "colab_type": "text"
      },
      "source": [
        "**Question 2-3**"
      ]
    },
    {
      "cell_type": "code",
      "metadata": {
        "id": "vL46xYDIu1nB",
        "colab_type": "code",
        "colab": {
          "base_uri": "https://localhost:8080/",
          "height": 139
        },
        "outputId": "5b36e368-256e-434c-ca73-9a825806fc9b"
      },
      "source": [
        "import csv\n",
        "import re\n",
        "user_input = input(\"Enter a word: \") # Ask the user for word input\n",
        "with open(\"output.csv\",'r') as input_file:\n",
        "    file_reader = csv.reader(input_file) # Create file reading variable\n",
        "    for row in file_reader: # Loop to read each row from the file\n",
        "        search_term = \" \"+user_input+\" \"\n",
        "        if search_term in row[2]:\n",
        "            found_words = re.findall(search_term,row[2])\n",
        "            print(row[0],row[1],len(found_words))"
      ],
      "execution_count": 14,
      "outputs": [
        {
          "output_type": "stream",
          "text": [
            "Enter a word: help\n",
            "ARTHROTEC.4 - line 5 It did help with the pain I experience with the pinched nerve, but it is not worth it to me to continue. 1\n",
            "ARTHROTEC.27 - line 7 Nor sure why my doctor thought it would help my endo pain. 1\n",
            "ARTHROTEC.30 - line 1 I have been on Arthrotec for a year and a half and have been very pleased that it does help deal with my back pain. 1\n",
            "ARTHROTEC.35 - line 1 While this medicine did help with my pain, the side affects out-weigh the benefits. 1\n",
            "ARTHROTEC.39 - line 2 Natural cures are better; apple cidar vinegar can effectively cure arthritis and headaches; vitamin C crystals can help pain at high doses; the Gerson diet with no salt can cure migrains, Fibro etc see doctoryourself.com and 'just say no to drugs' (Nancy Reagan). 1\n"
          ],
          "name": "stdout"
        }
      ]
    },
    {
      "cell_type": "markdown",
      "metadata": {
        "id": "c8Mot2PmyF0w",
        "colab_type": "text"
      },
      "source": [
        "**Question 3. (20 points).** In the field of Data Science, data is often formatted as a comma-delimited (CSV) file, where each line in a file corresponds to a field's value. Refer to Chapter 9 (p. 106) for more information on comma-delimited files. To answer this question, you will need to download the file Assignment2_denton_housing.csv included with this assignment. The file Assignment2_denton_housing.csv contains statistics about housing in the city of Denton from 2008 to 2014. Write a program in the “\\<LastName>_assognment-two-code.ipynb” file to do the following:\n",
        "\n",
        "(1)\t(10 pts) Calculate the difference in the number of Occupied Housing Units from year to year and print it. The difference must be calculated for the consecutive years such as 2008-2009, 2009-2010 etc. Finally, print the values in the ascending order.\n",
        "\n",
        "(2)\t(15 pts) For all the years, calculate the percentage of housing units which are vacant an occupied. Print the results in the following format:\n",
        "\n",
        "Year\t\tVacant Housing Units\t\tOccupied Housing Units\n",
        "\n",
        "2008\t\t30%\t\t\t\t70%\n",
        "\n",
        "2009\t\t-----\t\t\t\t-----\n",
        "\n",
        "2010\t\t-----\t\t\t\t-----\n",
        "\n",
        "2011\t\t-----\t\t\t\t-----\n",
        "\n",
        "2012\t\t-----\t\t\t\t-----\n",
        "\n",
        "2013\t\t-----\t\t\t\t-----\n",
        "\n",
        "2014\t\t-----\t\t\t\t-----\n",
        "\n",
        "(3)\t(15 pts) Calculate and print the valued and years in which the highest number of housing units were vacant and occupied. Print the results in the following format:\n",
        "\n",
        "\t            Year Value\n",
        "        \n",
        "Vacant Housing Units\t\t-----\t\t\t-----\n",
        "\n",
        "Occupied Housing Units \t-----\t\t\t-----\n",
        "\n",
        "\n",
        "(4) (15 pts) Calculate the harmonic mean of the total housing units and print it out. You can find the information about harmonic mean here: https://ncalculators.com/statistics/harmonic-mean-calculator.htm\n"
      ]
    },
    {
      "cell_type": "markdown",
      "metadata": {
        "id": "yp6J01AV0b0t",
        "colab_type": "text"
      },
      "source": [
        "**Question 3-1**"
      ]
    },
    {
      "cell_type": "code",
      "metadata": {
        "id": "EBgTONGZwwNV",
        "colab_type": "code",
        "colab": {
          "base_uri": "https://localhost:8080/",
          "height": 119
        },
        "outputId": "5080323f-a096-459b-f0ac-c253c19c70d1"
      },
      "source": [
        "import csv\n",
        "housing_units_occupied = {} # Create dictionary to store housing data\n",
        "# Open input file to read data\n",
        "with open(\"Assignment2_denton_housing.csv\",'r') as input_file:\n",
        "    file_reader = csv.reader(input_file) # Create file reading variable \n",
        "    for row in file_reader: # Iterate through the rows to read and store data\n",
        "        if row[1] == \"Occupied Housing Units\": # Store data for occupied housing only\n",
        "            housing_units_occupied[int(row[0])] = int(row[2])\n",
        "unit_diff = {} # Create dictionary to store unit differences\n",
        "year = 2008 # Create year variable as iteration variable\n",
        "while year < 2014: # Loop to calculate unit differences from 2008 to 2014\n",
        "    unit_diff[housing_units_occupied[year+1]-housing_units_occupied[year]] = str(year)+\"-\"+str(year+1)\n",
        "    year+=1 # Increment year by one\n",
        "# Loop to print unit difference values by ascending year\n",
        "for item in unit_diff:\n",
        "    print(\"From\",unit_diff[item]+\":\",item)"
      ],
      "execution_count": 15,
      "outputs": [
        {
          "output_type": "stream",
          "text": [
            "From 2008-2009: -795\n",
            "From 2009-2010: 5091\n",
            "From 2010-2011: -303\n",
            "From 2011-2012: 1404\n",
            "From 2012-2013: 1565\n",
            "From 2013-2014: 2622\n"
          ],
          "name": "stdout"
        }
      ]
    },
    {
      "cell_type": "markdown",
      "metadata": {
        "id": "7iPu2Qql0z7U",
        "colab_type": "text"
      },
      "source": [
        "**Question 3-2**"
      ]
    },
    {
      "cell_type": "code",
      "metadata": {
        "id": "oWIaWQ6D0yRg",
        "colab_type": "code",
        "colab": {
          "base_uri": "https://localhost:8080/",
          "height": 153
        },
        "outputId": "e813dbb0-f651-4366-fb68-4082e941f473"
      },
      "source": [
        "import csv\n",
        "# Create dictionaries to store housing data\n",
        "housing_units_total = {}\n",
        "housing_units_occupied = {}\n",
        "housing_units_vacant = {}\n",
        "# Open input file to read data\n",
        "with open(\"Assignment2_denton_housing.csv\",'r') as input_file:\n",
        "    file_reader = csv.reader(input_file) # Create file reading variable \n",
        "    for row in file_reader: # Iterate through the rows to read and store data\n",
        "        if row[1] == \"Total Housing Units\": # Store data for total housing\n",
        "            housing_units_total[int(row[0])] = int(row[2])\n",
        "        elif row[1] == \"Occupied Housing Units\": # Store data for occupied housing\n",
        "            housing_units_occupied[int(row[0])] = int(row[2])\n",
        "        elif row[1] == \"Vacant Housing Units\": # Store data for vacant housing\n",
        "            housing_units_vacant[int(row[0])] = int(row[2])\n",
        "year = 2008 # Create year variable as iteration variable\n",
        "print(\"Year\\tVacant Housing Units\\tOccupied Housing Units\") # Print table headers\n",
        "while year <= 2014: # Loop to calculate unit differences from 2008 to 2014\n",
        "    vacant_percent = (housing_units_vacant[year]/housing_units_total[year])*100\n",
        "    occupied_percent = (housing_units_occupied[year]/housing_units_total[year])*100\n",
        "    print(str(year)+\"\\t\"+str(round(vacant_percent,1))+\"%\\t\\t\\t\"+str(round(occupied_percent,1))+\"%\")\n",
        "    year+=1"
      ],
      "execution_count": 16,
      "outputs": [
        {
          "output_type": "stream",
          "text": [
            "Year\tVacant Housing Units\tOccupied Housing Units\n",
            "2008\t10.9%\t\t\t89.1%\n",
            "2009\t9.1%\t\t\t90.9%\n",
            "2010\t8.1%\t\t\t91.9%\n",
            "2011\t9.4%\t\t\t90.6%\n",
            "2012\t6.7%\t\t\t93.3%\n",
            "2013\t8.8%\t\t\t91.2%\n",
            "2014\t5.7%\t\t\t94.3%\n"
          ],
          "name": "stdout"
        }
      ]
    },
    {
      "cell_type": "markdown",
      "metadata": {
        "id": "9Op5qN7x0_gT",
        "colab_type": "text"
      },
      "source": [
        "**Question 3-3**"
      ]
    },
    {
      "cell_type": "code",
      "metadata": {
        "id": "lSm420PP07OM",
        "colab_type": "code",
        "colab": {
          "base_uri": "https://localhost:8080/",
          "height": 68
        },
        "outputId": "8824a3c7-19dd-4f4b-f063-503b698ff500"
      },
      "source": [
        "import csv\n",
        "# Create dictionaries to store housing data\n",
        "housing_units_occupied = {}\n",
        "housing_units_vacant = {}\n",
        "# Open input file to read data\n",
        "with open(\"Assignment2_denton_housing.csv\",'r') as input_file:\n",
        "    file_reader = csv.reader(input_file) # Create file reading variable \n",
        "    for row in file_reader: # Iterate through the rows to read and store data\n",
        "        if row[1] == \"Occupied Housing Units\": # Store data for occupied housing\n",
        "            housing_units_occupied[int(row[0])] = int(row[2])\n",
        "        elif row[1] == \"Vacant Housing Units\": # Store data for vacant housing\n",
        "            housing_units_vacant[int(row[0])] = int(row[2])\n",
        "max_vacant = max(housing_units_vacant.values()) # Determine the maximum vacant units\n",
        "max_occupied = max(housing_units_occupied.values()) # Determine the maximum occupied units\n",
        "print(\"\\t\\t\\tYear\\tValue\") # Print table headers\n",
        "for item in housing_units_vacant.items():\n",
        "    if item[1] == max_vacant:\n",
        "        print(\"Vacant Housing Units\\t\"+str(item[0])+\"\\t\"+str(max_vacant))\n",
        "for item in housing_units_occupied.items():\n",
        "    if item[1] == max_occupied:\n",
        "        print(\"Occupied Housing Units\\t\"+str(item[0])+\"\\t\"+str(max_occupied))"
      ],
      "execution_count": 17,
      "outputs": [
        {
          "output_type": "stream",
          "text": [
            "\t\t\tYear\tValue\n",
            "Vacant Housing Units\t2008\t4483\n",
            "Occupied Housing Units\t2014\t46295\n"
          ],
          "name": "stdout"
        }
      ]
    },
    {
      "cell_type": "markdown",
      "metadata": {
        "id": "7PbEvPFz1PG9",
        "colab_type": "text"
      },
      "source": [
        "**Question 3-4**"
      ]
    },
    {
      "cell_type": "code",
      "metadata": {
        "id": "VrWe8hXT1CaE",
        "colab_type": "code",
        "colab": {
          "base_uri": "https://localhost:8080/",
          "height": 34
        },
        "outputId": "418ddaae-e2a0-44bd-f593-c66d31639536"
      },
      "source": [
        "# Define function to calculate harmonic mean\n",
        "def harmonic_mean(list_name):\n",
        "    sum_rec = 0\n",
        "    for n in list_name:\n",
        "        sum_rec += (1/n)\n",
        "    return round(len(list_name)/sum_rec,2)\n",
        "\n",
        "import csv\n",
        "housing_units_total = [] # Create list to store housing data\n",
        "# Open input file to read data\n",
        "with open(\"Assignment2_denton_housing.csv\",'r') as input_file:\n",
        "    file_reader = csv.reader(input_file) # Create file reading variable \n",
        "    for row in file_reader: # Iterate through the rows to read and store data\n",
        "        if row[1] == \"Total Housing Units\": # Store data for total housing only\n",
        "            housing_units_total.append(int(row[2]))\n",
        "\n",
        "print(\"The harmonic mean of the total housing units is\",str(harmonic_mean(housing_units_total)))"
      ],
      "execution_count": 18,
      "outputs": [
        {
          "output_type": "stream",
          "text": [
            "The harmonic mean of the total housing units is 44398.29\n"
          ],
          "name": "stdout"
        }
      ]
    }
  ]
}